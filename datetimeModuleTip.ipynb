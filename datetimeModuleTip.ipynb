{
 "cells": [
  {
   "cell_type": "markdown",
   "metadata": {},
   "source": [
    "## 1 [get_today's time](http://www.cyberciti.biz/faq/howto-get-current-date-time-in-python/)"
   ]
  },
  {
   "cell_type": "code",
   "execution_count": 1,
   "metadata": {},
   "outputs": [
    {
     "name": "stdout",
     "output_type": "stream",
     "text": [
      "12:18:00\n",
      "23/04/2018\n"
     ]
    },
    {
     "data": {
      "text/plain": [
       "'2018-04-23'"
      ]
     },
     "execution_count": 1,
     "metadata": {},
     "output_type": "execute_result"
    }
   ],
   "source": [
    "import time\n",
    "print (time.strftime(\"%H:%M:%S\"))\n",
    "print (time.strftime(\"%d/%m/%Y\"))\n",
    "today= (time.strftime(\"%Y-%m-%d\"))\n",
    "today"
   ]
  },
  {
   "cell_type": "markdown",
   "metadata": {},
   "source": [
    "## 2 get dates,change dates"
   ]
  },
  {
   "cell_type": "code",
   "execution_count": 2,
   "metadata": {},
   "outputs": [
    {
     "name": "stdout",
     "output_type": "stream",
     "text": [
      "2017-04-05\n",
      "Wed Apr  5 00:00:00 2017\n",
      "3\n"
     ]
    }
   ],
   "source": [
    "import datetime\n",
    "\n",
    "\n",
    "d=datetime.date(2017,4,5)\n",
    "print(d)\n",
    "print(d.ctime())\n",
    "print(d.isoweekday())"
   ]
  },
  {
   "cell_type": "code",
   "execution_count": 3,
   "metadata": {},
   "outputs": [
    {
     "name": "stdout",
     "output_type": "stream",
     "text": [
      "60 days, 0:00:00\n",
      "5184000.0\n",
      "2017-04-12\n",
      "2017-04-19\n",
      "2017-06-04\n"
     ]
    }
   ],
   "source": [
    "tdelta= datetime.timedelta(days=7)\n",
    "tdelta2= d-datetime.date(2017,2,4)\n",
    "print (tdelta2)\n",
    "print (tdelta2.total_seconds())\n",
    "print(d+tdelta)\n",
    "print(d+2*tdelta)\n",
    "print(d+tdelta2)"
   ]
  },
  {
   "cell_type": "markdown",
   "metadata": {},
   "source": [
    "## 3 get time,change time"
   ]
  },
  {
   "cell_type": "code",
   "execution_count": 5,
   "metadata": {},
   "outputs": [
    {
     "name": "stdout",
     "output_type": "stream",
     "text": [
      "9\n",
      "2017-04-25 12:30:45\n",
      "12:30:45\n",
      "2017-05-02 12:30:45\n"
     ]
    }
   ],
   "source": [
    "t=datetime.time(9,30,3,10000)\n",
    "print (t.hour)\n",
    "\n",
    "dt=datetime.datetime(2017,4,25,12,30,45)\n",
    "print (dt)\n",
    "print (dt.time())\n",
    "\n",
    "dtdelta= datetime.timedelta(days=7)\n",
    "print (dt+dtdelta)"
   ]
  },
  {
   "cell_type": "markdown",
   "metadata": {},
   "source": [
    "## 4 strftime format"
   ]
  },
  {
   "cell_type": "code",
   "execution_count": 7,
   "metadata": {},
   "outputs": [
    {
     "name": "stdout",
     "output_type": "stream",
     "text": [
      "2018-04-23 12:21:43.018624\n",
      "April-23, 2018: 12\n",
      "2017-05-03 15:00:00\n"
     ]
    }
   ],
   "source": [
    "dt_1=datetime.datetime.now()\n",
    "print (dt_1)\n",
    "print (dt_1.strftime('%B-%d, %Y: %H'))\n",
    "\n",
    "dt_str='May-03, 2017: 15'\n",
    "print (datetime.datetime.strptime(dt_str,'%B-%d, %Y: %H'))"
   ]
  },
  {
   "cell_type": "markdown",
   "metadata": {},
   "source": [
    "## 5 pandas to_datatime"
   ]
  },
  {
   "cell_type": "code",
   "execution_count": 8,
   "metadata": {},
   "outputs": [
    {
     "name": "stdout",
     "output_type": "stream",
     "text": [
      "0    3/11/2000\n",
      "1    3/12/2000\n",
      "2    3/13/2000\n",
      "3    3/11/2000\n",
      "4    3/12/2000\n",
      "5    3/13/2000\n",
      "6    3/11/2000\n",
      "7    3/12/2000\n",
      "8    3/13/2000\n",
      "dtype: object\n"
     ]
    },
    {
     "ename": "TypeError",
     "evalue": "unsupported operand type(s) for -: 'str' and 'str'",
     "output_type": "error",
     "traceback": [
      "\u001b[1;31m---------------------------------------------------------------------------\u001b[0m",
      "\u001b[1;31mTypeError\u001b[0m                                 Traceback (most recent call last)",
      "\u001b[1;32m<ipython-input-8-bb94faf3163e>\u001b[0m in \u001b[0;36m<module>\u001b[1;34m()\u001b[0m\n\u001b[0;32m      3\u001b[0m \u001b[0mprint\u001b[0m \u001b[1;33m(\u001b[0m\u001b[0ms\u001b[0m\u001b[1;33m)\u001b[0m\u001b[1;33m\u001b[0m\u001b[0m\n\u001b[0;32m      4\u001b[0m \u001b[0ms1\u001b[0m\u001b[1;33m=\u001b[0m\u001b[0mpd\u001b[0m\u001b[1;33m.\u001b[0m\u001b[0mto_datetime\u001b[0m\u001b[1;33m(\u001b[0m\u001b[0ms\u001b[0m\u001b[1;33m,\u001b[0m\u001b[0mformat\u001b[0m\u001b[1;33m=\u001b[0m\u001b[1;34m\"%m/%d/%Y\"\u001b[0m\u001b[1;33m)\u001b[0m\u001b[1;33m\u001b[0m\u001b[0m\n\u001b[1;32m----> 5\u001b[1;33m \u001b[0mprint\u001b[0m \u001b[1;33m(\u001b[0m\u001b[0ms\u001b[0m\u001b[1;33m[\u001b[0m\u001b[1;36m0\u001b[0m\u001b[1;33m]\u001b[0m\u001b[1;33m-\u001b[0m\u001b[0ms\u001b[0m\u001b[1;33m[\u001b[0m\u001b[1;36m2\u001b[0m\u001b[1;33m]\u001b[0m\u001b[1;33m)\u001b[0m\u001b[1;33m\u001b[0m\u001b[0m\n\u001b[0m\u001b[0;32m      6\u001b[0m \u001b[0mprint\u001b[0m \u001b[1;33m(\u001b[0m\u001b[0ms1\u001b[0m\u001b[1;33m[\u001b[0m\u001b[1;36m0\u001b[0m\u001b[1;33m]\u001b[0m\u001b[1;33m-\u001b[0m\u001b[0ms1\u001b[0m\u001b[1;33m[\u001b[0m\u001b[1;36m2\u001b[0m\u001b[1;33m]\u001b[0m\u001b[1;33m)\u001b[0m\u001b[1;33m\u001b[0m\u001b[0m\n",
      "\u001b[1;31mTypeError\u001b[0m: unsupported operand type(s) for -: 'str' and 'str'"
     ]
    }
   ],
   "source": [
    "import pandas as pd\n",
    "s = pd.Series(['3/11/2000', '3/12/2000', '3/13/2000']*3)\n",
    "print (s)\n",
    "s1=pd.to_datetime(s,format=\"%m/%d/%Y\")\n",
    "print (s[0]-s[2])\n",
    "print (s1[0]-s1[2])"
   ]
  },
  {
   "cell_type": "code",
   "execution_count": null,
   "metadata": {
    "collapsed": true
   },
   "outputs": [],
   "source": []
  }
 ],
 "metadata": {
  "kernelspec": {
   "display_name": "Python 3",
   "language": "python",
   "name": "python3"
  },
  "language_info": {
   "codemirror_mode": {
    "name": "ipython",
    "version": 3
   },
   "file_extension": ".py",
   "mimetype": "text/x-python",
   "name": "python",
   "nbconvert_exporter": "python",
   "pygments_lexer": "ipython3",
   "version": "3.5.3"
  }
 },
 "nbformat": 4,
 "nbformat_minor": 2
}
