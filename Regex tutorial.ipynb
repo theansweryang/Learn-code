{
 "cells": [
  {
   "cell_type": "code",
   "execution_count": 1,
   "metadata": {
    "collapsed": true
   },
   "outputs": [],
   "source": [
    "import re"
   ]
  },
  {
   "cell_type": "code",
   "execution_count": 2,
   "metadata": {
    "collapsed": false
   },
   "outputs": [
    {
     "name": "stdout",
     "output_type": "stream",
     "text": [
      "<_sre.SRE_Match object at 0x00000000042DD100>\n",
      "['ape ', 'apex']\n",
      "['ap', 'as', 'ap']\n",
      "['Cat', 'mat']\n",
      "[' at', 'mat', 'pat']\n",
      "['321', '654']\n",
      "['x, ']\n",
      "['a', 'a', 'a', 'a', 'a', 'a', 'a', 'a']\n"
     ]
    }
   ],
   "source": [
    "str1='the ape was at the apex, Cat rat mat pat 321 654 6'\n",
    "print re.search('ape',str1)\n",
    "    \n",
    "allapes=re.findall('ape.', str1) #.代表任何一个string,除了\\n\n",
    "print allapes\n",
    "\n",
    "print re.findall('a[ps]',str1)#[ps]代表a后面有小写p或s, [] 为match what is in the barcket\n",
    "print re.findall('[c-mC-M]at',str1) #c-m代表小写c到m，C-M为大写, []只为一个字节\n",
    "print re.findall('[^Cr]at',str1) #^Cr 为除了Cr以外所有的字节，^为除了\n",
    "print re.findall('\\d{2,4}',str1) #\\d:[0-9] 为数字, {2,4} 为有两到四个数字;{2,}:bigger than 2 digits\n",
    "print re.findall('\\w\\W\\s',str1) #\\w: [a-zA-Z0-9]  \\W:[^a-zA-Z0-9]   \\s 为空格\n",
    "print re.findall('a+',str1)  #+ 指的是有一个或以上的a"
   ]
  },
  {
   "cell_type": "code",
   "execution_count": 3,
   "metadata": {
    "collapsed": false
   },
   "outputs": [
    {
     "name": "stdout",
     "output_type": "stream",
     "text": [
      "4\n",
      "8\n",
      "(4, 8)\n",
      "19\n",
      "23\n",
      "(19, 23)\n"
     ]
    }
   ],
   "source": [
    "for i in re.finditer('ape.',str1):#\n",
    "    print i.start()\n",
    "    print i.end()\n",
    "    locTuple= i.span() #得到位置index\n",
    "    print locTuple"
   ]
  },
  {
   "cell_type": "code",
   "execution_count": 4,
   "metadata": {
    "collapsed": false
   },
   "outputs": [
    {
     "name": "stdout",
     "output_type": "stream",
     "text": [
      "owl owl mat pat\n"
     ]
    }
   ],
   "source": [
    "str2='rat cat mat pat'\n",
    "regex=re.compile('[cr]at')  #compile相当于一个设定\n",
    "print regex.sub('owl',str2) #如果str2里面有符合设定的就替换成owl"
   ]
  },
  {
   "cell_type": "code",
   "execution_count": 5,
   "metadata": {
    "collapsed": false
   },
   "outputs": [
    {
     "name": "stdout",
     "output_type": "stream",
     "text": [
      "find\\stuff None\n",
      "find\\stuff <_sre.SRE_Match object at 0x00000000042DD100>\n",
      "['F.', 'B.', 'I.', 'I.', 'R.', 'S.']\n"
     ]
    }
   ],
   "source": [
    "str3='here is \\\\stuff, F.B.I. I.R.S. CIA'\n",
    "print 'find\\\\stuff',re.search('\\\\stuff',str3)##python无法识别 \\\\ 符号\n",
    "print 'find\\\\stuff',re.search(r'\\\\stuff',str3)##python无法识别 \\\\ 符号, 但前面加上r,可以把string变成raw string.\n",
    "print re.findall('.\\.',str3)"
   ]
  },
  {
   "cell_type": "code",
   "execution_count": 6,
   "metadata": {
    "collapsed": false
   },
   "outputs": [
    {
     "name": "stdout",
     "output_type": "stream",
     "text": [
      "this is a long \n",
      "string that goes \n",
      "on for many lines\n",
      "this is a long  string that goes  on for many lines\n"
     ]
    }
   ],
   "source": [
    "str4=\"this is a long \\nstring that goes \\non for many lines\"\n",
    "print str4\n",
    "regex=re.compile('\\n') #\\n 是换行\n",
    "print regex.sub(' ',str4)"
   ]
  },
  {
   "cell_type": "code",
   "execution_count": 7,
   "metadata": {
    "collapsed": false
   },
   "outputs": [
    {
     "name": "stdout",
     "output_type": "stream",
     "text": [
      "['cat', 'cats', 'tacs', 'cat']\n",
      "['cat', 'cats', 'tacs', \"cat's\"]\n"
     ]
    }
   ],
   "source": [
    "str4=\"cat cats tacs cat's\"\n",
    "regex=re.compile(\"[cat]+s?\") # s? 为可以有也可以没有s\n",
    "print re.findall(regex,str4)\n",
    "regex=re.compile(\"[cat]+['s]*\") #['s]* 用了*,意思是['s]里面有或没有都行\n",
    "print re.findall(regex,str4)"
   ]
  },
  {
   "cell_type": "markdown",
   "metadata": {},
   "source": [
    "## greedy and lazy matching\t"
   ]
  },
  {
   "cell_type": "code",
   "execution_count": 10,
   "metadata": {
    "collapsed": false
   },
   "outputs": [
    {
     "name": "stdout",
     "output_type": "stream",
     "text": [
      "['<name>Life on Mars</name><name>russel westbrook</name>']\n",
      "['<name>Life on Mars</name>', '<name>russel westbrook</name>']\n"
     ]
    }
   ],
   "source": [
    "str5='<name>Life on Mars</name><name>russel westbrook</name>'\n",
    "regex=re.compile(\"<name>.*</name>\") \n",
    "print re.findall(regex,str5)    \n",
    "#this one print out one big string, .* is greed match, it return the biggest match..\n",
    "#so the first <name> between the last </name>\n",
    "\n",
    "regex=re.compile(\"<name>.*?</name>\")  \n",
    "#add a ? will turn to lazy match, it will return the smallest match possible, from left to right..\n",
    "print re.findall(regex,str5)"
   ]
  },
  {
   "cell_type": "code",
   "execution_count": 11,
   "metadata": {
    "collapsed": false
   },
   "outputs": [
    {
     "name": "stdout",
     "output_type": "stream",
     "text": [
      "['<name>Life on Mars</name><name>russel westbrook']\n",
      "['<name>Life on Mars', '<name>russel westbrook']\n"
     ]
    }
   ],
   "source": [
    "str5='<name>Life on Mars</name><name>russel westbrook</name>'\n",
    "regex=re.compile(\"(.*)</name>\") \n",
    "print re.findall(regex,str5)    #add (.*) then no '<name>' and '</name>' will included\n",
    "\n",
    "regex=re.compile(\"(.*?)</name>\")  #nothing before (.*?) means from the beginning\n",
    "print re.findall(regex,str5)"
   ]
  },
  {
   "cell_type": "markdown",
   "metadata": {},
   "source": [
    "## word boundary"
   ]
  },
  {
   "cell_type": "code",
   "execution_count": 12,
   "metadata": {
    "collapsed": false
   },
   "outputs": [
    {
     "name": "stdout",
     "output_type": "stream",
     "text": [
      "['ape', 'ape', 'ape']\n",
      "['ape']\n"
     ]
    }
   ],
   "source": [
    "str6='ape at the apex apelkj'\n",
    "regex=re.compile(r\"ape\")\n",
    "print re.findall(regex,str6)\n",
    "\n",
    "regex=re.compile(r\"\\bape\\b\") #\\b 为边界,表示ape前后都不能有内容\n",
    "print re.findall(regex,str6)"
   ]
  },
  {
   "cell_type": "markdown",
   "metadata": {},
   "source": [
    "## sub expression"
   ]
  },
  {
   "cell_type": "code",
   "execution_count": 13,
   "metadata": {
    "collapsed": false
   },
   "outputs": [
    {
     "name": "stdout",
     "output_type": "stream",
     "text": [
      "['2423-2323']\n",
      "['-2423-232']\n",
      "[('2423', '2323')]\n"
     ]
    }
   ],
   "source": [
    "str7=\"my number is 873-2423-2323,jlaskdfj\"\n",
    "regex=re.compile(r\"873-(.*),\") # 873-后面的和逗号前面的,只取()里面的。。前后用来定义括号\n",
    "print re.findall(regex,str7)\n",
    "\n",
    "regex=re.compile(r\"873(.{9})\") # 用{}确定要取的数量\n",
    "print re.findall(regex,str7)\n",
    "\n",
    "regex=re.compile(r\"873-(.*)-(.*),+\") # 可以通过- 符号多次 取字段\n",
    "print re.findall(regex,str7)\n"
   ]
  },
  {
   "cell_type": "markdown",
   "metadata": {},
   "source": [
    "## look ahead and behind"
   ]
  },
  {
   "cell_type": "code",
   "execution_count": 14,
   "metadata": {
    "collapsed": false
   },
   "outputs": [
    {
     "name": "stdout",
     "output_type": "stream",
     "text": [
      "['ap', 'ch', 'ja']\n",
      "['apple', 'china']\n",
      "['asdf sdf ', 'gaesd']\n"
     ]
    }
   ],
   "source": [
    "str7=\"1.apple  2.china 3.japan\"\n",
    "regex= re.compile(r\"(?<=\\d.)\\w{2}\") # ?<= 定义之前有\\d., 取\\w{2}. 这个叫定义前面的，取后面的\n",
    "print re.findall(regex,str7)\n",
    "\n",
    "\n",
    "str7=\"1.apple  2.china 3.japan\"\n",
    "regex= re.compile(r\"\\w+(?=\\s)\") # ?= 定义之后有空格., 取\\w+..定义后面的取前面的\n",
    "print re.findall(regex,str7)\n",
    "\n",
    "str7=\"<h1>asdf sdf </h1> <h1>gaesd</h1>\"\n",
    "regex=re.compile(r\"(?<=<h1>).+?(?=</h1>)\")  #前后夹击，找中间的..\n",
    "print re.findall(regex,str7)"
   ]
  },
  {
   "cell_type": "markdown",
   "metadata": {},
   "source": [
    "## use variable in regex"
   ]
  },
  {
   "cell_type": "code",
   "execution_count": 15,
   "metadata": {
    "collapsed": false
   },
   "outputs": [
    {
     "data": {
      "text/plain": [
       "['heinz-1']"
      ]
     },
     "execution_count": 15,
     "metadata": {},
     "output_type": "execute_result"
    }
   ],
   "source": [
    "user = 'heinz'\n",
    "import re\n",
    "regex = re.compile('%s-\\d*'%user)\n",
    "re.findall(regex,'asdfheinz-1asdfa')"
   ]
  },
  {
   "cell_type": "code",
   "execution_count": null,
   "metadata": {
    "collapsed": true
   },
   "outputs": [],
   "source": []
  },
  {
   "cell_type": "code",
   "execution_count": null,
   "metadata": {
    "collapsed": true
   },
   "outputs": [],
   "source": []
  },
  {
   "cell_type": "code",
   "execution_count": null,
   "metadata": {
    "collapsed": true
   },
   "outputs": [],
   "source": []
  },
  {
   "cell_type": "code",
   "execution_count": null,
   "metadata": {
    "collapsed": true
   },
   "outputs": [],
   "source": []
  },
  {
   "cell_type": "code",
   "execution_count": null,
   "metadata": {
    "collapsed": true
   },
   "outputs": [],
   "source": []
  },
  {
   "cell_type": "code",
   "execution_count": null,
   "metadata": {
    "collapsed": true
   },
   "outputs": [],
   "source": []
  },
  {
   "cell_type": "code",
   "execution_count": null,
   "metadata": {
    "collapsed": true
   },
   "outputs": [],
   "source": []
  },
  {
   "cell_type": "code",
   "execution_count": null,
   "metadata": {
    "collapsed": true
   },
   "outputs": [],
   "source": []
  },
  {
   "cell_type": "code",
   "execution_count": null,
   "metadata": {
    "collapsed": true
   },
   "outputs": [],
   "source": []
  },
  {
   "cell_type": "code",
   "execution_count": null,
   "metadata": {
    "collapsed": true
   },
   "outputs": [],
   "source": []
  }
 ],
 "metadata": {
  "kernelspec": {
   "display_name": "Python 2",
   "language": "python",
   "name": "python2"
  },
  "language_info": {
   "codemirror_mode": {
    "name": "ipython",
    "version": 2
   },
   "file_extension": ".py",
   "mimetype": "text/x-python",
   "name": "python",
   "nbconvert_exporter": "python",
   "pygments_lexer": "ipython2",
   "version": "2.7.11"
  }
 },
 "nbformat": 4,
 "nbformat_minor": 0
}
