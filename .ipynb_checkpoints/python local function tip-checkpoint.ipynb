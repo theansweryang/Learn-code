{
 "cells": [
  {
   "cell_type": "code",
   "execution_count": 1,
   "metadata": {
    "collapsed": true
   },
   "outputs": [],
   "source": [
    "import pandas as pd\n",
    "import numpy as np"
   ]
  },
  {
   "cell_type": "code",
   "execution_count": null,
   "metadata": {},
   "outputs": [],
   "source": [
    "1## 1.1 [lamda](http://www.python-course.eu/python3_lambda.php) "
   ]
  },
  {
   "cell_type": "markdown",
   "metadata": {},
   "source": [
    "# 1 [art of avoiding nested code](https://medium.com/the-python-corner/the-art-of-avoiding-nested-code-ec8a780089b7) "
   ]
  },
  {
   "cell_type": "code",
   "execution_count": 2,
   "metadata": {},
   "outputs": [
    {
     "name": "stdout",
     "output_type": "stream",
     "text": [
      "64\n",
      "64\n",
      "[3, 19, 10, 23, 18, 25, 9, 13, 28]\n",
      "[2, 18, 22, 24, 8, 12]\n",
      "[2, 18, 22, 24, 8, 12]\n",
      "10\n"
     ]
    }
   ],
   "source": [
    "#The general syntax of a lambda function is quite simple: \n",
    "#lambda argument_list: expression \n",
    "\n",
    "def f(x): return x**2 \n",
    "print (f(8))\n",
    "\n",
    "g = lambda x: x**2 \n",
    "print (g(8))\n",
    "\n",
    "###using lambda with map \n",
    "foo = [2, 18, 9, 22, 17, 24, 8, 12, 27]\n",
    "\n",
    "#map syntax: r = map(func, seq)\n",
    "foo_1= map(lambda x:x+1,foo)\n",
    "print (foo_1)\n",
    "\n",
    "### using lambda with filter\n",
    "foo_2=filter(lambda x:x%2==0,foo)\n",
    "print (foo_2)\n",
    "print (list(foo_2))\n",
    "\n",
    "### using lambda with reduce\n",
    "#reduce is an accumulative loop..this example is by ((1+2)+3)+4\n",
    "import functools\n",
    "fo=[1,2,3,4]\n",
    "foo_3= functools.reduce(lambda x,y:x+y,fo)\n",
    "print (foo_3)\n",
    "\n"
   ]
  },
  {
   "cell_type": "markdown",
   "metadata": {},
   "source": [
    "### 1.2 [list_comprehension](http://www.python-course.eu/python3_list_comprehension.php)  almost as fast as map;"
   ]
  },
  {
   "cell_type": "code",
   "execution_count": 4,
   "metadata": {},
   "outputs": [
    {
     "name": "stdout",
     "output_type": "stream",
     "text": [
      "[0, 1, 2]\n",
      "[(3, 4, 5), (5, 12, 13), (6, 8, 10), (7, 24, 25), (8, 15, 17), (9, 12, 15), (10, 24, 26), (12, 16, 20), (15, 20, 25), (20, 21, 29)]\n",
      "[0, 1, 4, 9, 16, 25, 36, 49, 64, 81]\n",
      "[1, 2, 4, 8, 16, 32, 64, 128, 256, 512, 1024, 2048, 4096]\n",
      "[0, 4, 16, 36, 64]\n"
     ]
    }
   ],
   "source": [
    "res = [x for x in range(3)]#【variable (for loop with the variable)】\n",
    "print(res)\n",
    "\n",
    "print ([(x,y,z) for x in range(1,30) for y in range(x,30) for z in range(y,30) if x**2 + y**2 == z**2])\n",
    "#solve x**2+y**2=z**2 \n",
    "\n",
    "S = [x**2 for x in range(10)]\n",
    "V = [2**i for i in range(13)]\n",
    "M = [x for x in S if x % 2 == 0]\n",
    "print (S); print (V); print (M)\n"
   ]
  },
  {
   "cell_type": "markdown",
   "metadata": {},
   "source": [
    "## 3 use variables in a string"
   ]
  },
  {
   "cell_type": "code",
   "execution_count": 5,
   "metadata": {
    "scrolled": true
   },
   "outputs": [
    {
     "name": "stdout",
     "output_type": "stream",
     "text": [
      "Let's talk about Zed A. Shaw.\n",
      "He's got Blue eyes and Brown hair.\n",
      "His teeth are usually White depending on the coffee.\n",
      "If I add 35, 74, and 180 I get 289.\n"
     ]
    }
   ],
   "source": [
    "my_name = 'Zed A. Shaw'\n",
    "my_age = 35 # not a lie\n",
    "my_height = 74 # inches\n",
    "my_eyes = 'Blue'\n",
    "my_teeth = 'White'\n",
    "my_hair = 'Brown'\n",
    "\n",
    "print (\"Let's talk about %s.\" % my_name)\n",
    "print (\"He's got %s eyes and %s hair.\" % (my_eyes, my_hair))\n",
    "print (\"His teeth are usually %s depending on the coffee.\" % my_teeth)\n",
    "\n",
    "# this line is tricky, try to get it exactly right\n",
    "print (\"If I add %d, %d, and %d I get %d.\" % (\n",
    "    my_age, my_height, my_weight, my_age + my_height + my_weight))\n",
    "\n",
    "#%s is used as a placeholder for string values you want inject into a formatted string.\n",
    "\n",
    "#%d is used as a placeholder for numeric or decimal values."
   ]
  },
  {
   "cell_type": "code",
   "execution_count": 6,
   "metadata": {},
   "outputs": [
    {
     "name": "stdout",
     "output_type": "stream",
     "text": [
      "ab,Zed A. Shaw,c\n",
      "my name is Zed A. Shaw, my age is 35\n"
     ]
    }
   ],
   "source": [
    "## use {} as place holder 然后用 .format assign 进入{}\n",
    "print ('{},{},{}'.format('ab',my_name,'c'))\n",
    "\n",
    "##f-strings\n",
    "print (f'my name is {my_name}, my age is {my_age}') #在string前面加一个f，可以让{name}表明在string里面放入variable my_name。"
   ]
  },
  {
   "cell_type": "markdown",
   "metadata": {},
   "source": [
    "## 4 array and list is big difference"
   ]
  },
  {
   "cell_type": "code",
   "execution_count": 13,
   "metadata": {},
   "outputs": [
    {
     "data": {
      "text/plain": [
       "array([2, 3, 4, 5, 7])"
      ]
     },
     "execution_count": 13,
     "metadata": {},
     "output_type": "execute_result"
    }
   ],
   "source": [
    "import numpy as np\n",
    "# a=range(40)\n",
    "#a[2,5] list里面只能取一个或者slice一整段，不能用一个list选择\n",
    "\n",
    "\n",
    "a=np.array(range(40))\n",
    "b=list([2,3,6])\n",
    "c=np.array(range(2,6)+[7])\n",
    "a[c]"
   ]
  },
  {
   "cell_type": "markdown",
   "metadata": {},
   "source": [
    "## 5 [sorted](https://developers.google.com/edu/python/sorting) "
   ]
  },
  {
   "cell_type": "code",
   "execution_count": null,
   "metadata": {
    "collapsed": true
   },
   "outputs": [],
   "source": [
    "strs = ['aa', 'BB', 'zz', 'CC']\n",
    "print sorted(strs)  \n",
    "print sorted(strs, reverse=True)  "
   ]
  },
  {
   "cell_type": "code",
   "execution_count": null,
   "metadata": {
    "collapsed": true
   },
   "outputs": [],
   "source": [
    "strs = ['ccc', 'aaaa', 'd', 'bb']\n",
    "print sorted(strs, key=len)#根据单词长度排序\n",
    "list_of_medals = [('Italy', 5), ('Russia', 10), ('Germany', 16),('Ireland', 10), ('Spain', 9), ('Albania', 8), ('Lithuania', 7), ('Iceland', 6), ('Sweden', 24), ('Malta', 5), ('Estonia', 4), ('Turkey', 4), ('Moldova', 2), ('Serbia', 4),  ('Azerbaijan', 2)]\n",
    "sorted(list_of_medals, key=lambda tup: (-tup[1], tup[0]))#先按照数字倒排序，数字一样再按照阿拉伯正排序"
   ]
  },
  {
   "cell_type": "markdown",
   "metadata": {},
   "source": [
    "## 6 ZIP "
   ]
  },
  {
   "cell_type": "code",
   "execution_count": 2,
   "metadata": {},
   "outputs": [
    {
     "data": {
      "text/plain": [
       "[(1, 4, 7), (2, 5, 8), (3, 6, 9)]"
      ]
     },
     "execution_count": 2,
     "metadata": {},
     "output_type": "execute_result"
    }
   ],
   "source": [
    "##zip for list adding, zip helps to get multiple values in order for multiple lists\n",
    "x=[1,2,3]\n",
    "y=[4,5,6]\n",
    "z=[7,8,9]\n",
    "xyz=zip(x,y,z)\n",
    "list(xyz)"
   ]
  },
  {
   "cell_type": "code",
   "execution_count": 1,
   "metadata": {
    "collapsed": true
   },
   "outputs": [
    {
     "ename": "NameError",
     "evalue": "name 'kLine' is not defined",
     "output_type": "error",
     "traceback": [
      "\u001b[1;31m---------------------------------------------------------------------------\u001b[0m",
      "\u001b[1;31mNameError\u001b[0m                                 Traceback (most recent call last)",
      "\u001b[1;32m<ipython-input-1-6dc0c23091f1>\u001b[0m in \u001b[0;36m<module>\u001b[1;34m()\u001b[0m\n\u001b[1;32m----> 1\u001b[1;33m \u001b[1;32mfor\u001b[0m \u001b[0mstock\u001b[0m\u001b[1;33m,\u001b[0m \u001b[0mma5\u001b[0m\u001b[1;33m,\u001b[0m \u001b[0mma10\u001b[0m \u001b[1;32min\u001b[0m \u001b[0mzip\u001b[0m\u001b[1;33m(\u001b[0m\u001b[0mkLine\u001b[0m\u001b[1;33m[\u001b[0m\u001b[1;34m'secID'\u001b[0m\u001b[1;33m]\u001b[0m\u001b[1;33m.\u001b[0m\u001b[0mvalues\u001b[0m\u001b[1;33m,\u001b[0m \u001b[0mkLine\u001b[0m\u001b[1;33m[\u001b[0m\u001b[1;34m'MA5'\u001b[0m\u001b[1;33m]\u001b[0m\u001b[1;33m.\u001b[0m\u001b[0mvalues\u001b[0m\u001b[1;33m,\u001b[0m \u001b[0mkLine\u001b[0m\u001b[1;33m[\u001b[0m\u001b[1;34m'MA10'\u001b[0m\u001b[1;33m]\u001b[0m\u001b[1;33m.\u001b[0m\u001b[0mvalues\u001b[0m\u001b[1;33m)\u001b[0m\u001b[1;33m:\u001b[0m\u001b[1;33m\u001b[0m\u001b[0m\n\u001b[0m\u001b[0;32m      2\u001b[0m         \u001b[1;31m#遍历kline中secid，ma5，ma10的值，这个ZIP是什么意思，不太懂，待会再解决\u001b[0m\u001b[1;33m\u001b[0m\u001b[1;33m\u001b[0m\u001b[0m\n\u001b[0;32m      3\u001b[0m         \u001b[1;32mif\u001b[0m \u001b[0mma5\u001b[0m \u001b[1;33m>\u001b[0m \u001b[0mma10\u001b[0m\u001b[1;33m:\u001b[0m                           \u001b[1;31m#如果ma5>ma10\u001b[0m\u001b[1;33m\u001b[0m\u001b[0m\n\u001b[0;32m      4\u001b[0m             \u001b[0mduotou\u001b[0m\u001b[1;33m[\u001b[0m\u001b[0mstock\u001b[0m\u001b[1;33m]\u001b[0m \u001b[1;33m=\u001b[0m \u001b[1;32mTrue\u001b[0m                    \u001b[1;31m#duotou这个字典中某stock对应的值是TRUE，\u001b[0m\u001b[1;33m\u001b[0m\u001b[0m\n\u001b[0;32m      5\u001b[0m         \u001b[1;32melse\u001b[0m\u001b[1;33m:\u001b[0m\u001b[1;33m\u001b[0m\u001b[0m\n",
      "\u001b[1;31mNameError\u001b[0m: name 'kLine' is not defined"
     ]
    }
   ],
   "source": [
    "for stock, ma5, ma10 in zip(kLine['secID'].values, kLine['MA5'].values, kLine['MA10'].values):   \n",
    "        #遍历kline中secid，ma5，ma10的值，这个ZIP是什么意思，不太懂，待会再解决\n",
    "        if ma5 > ma10:                           #如果ma5>ma10\n",
    "            duotou[stock] = True                    #duotou这个字典中某stock对应的值是TRUE，\n",
    "        else:\n",
    "            duotou[stock] = False                  #否则duotou{stock：FALSE}\n",
    "            \n",
    "#上面这段用的zip相当厉害。。用在for的loop里面可以同时调用多个item"
   ]
  },
  {
   "cell_type": "code",
   "execution_count": 11,
   "metadata": {},
   "outputs": [
    {
     "name": "stdout",
     "output_type": "stream",
     "text": [
      "<zip object at 0x000001CB2810AAC8>\n",
      "1 4 7\n",
      "2 5 8\n",
      "3 6 9\n"
     ]
    }
   ],
   "source": [
    "x=[1,2,3]\n",
    "y=[4,5,6]\n",
    "z=[7,8,9]\n",
    "xyz=zip(x,y,z)\n",
    "print (xyz)\n",
    "for a,b,c in xyz:\n",
    "    print (a,b,c)"
   ]
  },
  {
   "cell_type": "markdown",
   "metadata": {},
   "source": [
    "## 6 list insert& pop"
   ]
  },
  {
   "cell_type": "code",
   "execution_count": 15,
   "metadata": {},
   "outputs": [],
   "source": [
    "listi=['apple','pear','mangos','water','car']"
   ]
  },
  {
   "cell_type": "code",
   "execution_count": 16,
   "metadata": {},
   "outputs": [
    {
     "data": {
      "text/plain": [
       "['apple', 'pear', 'ball', 'mangos', 'water', 'car']"
      ]
     },
     "execution_count": 16,
     "metadata": {},
     "output_type": "execute_result"
    }
   ],
   "source": [
    "listi.insert(2,'ball')\n",
    "listi"
   ]
  },
  {
   "cell_type": "code",
   "execution_count": 17,
   "metadata": {},
   "outputs": [
    {
     "data": {
      "text/plain": [
       "['apple', 'pear', 'ball', 'water', 'car']"
      ]
     },
     "execution_count": 17,
     "metadata": {},
     "output_type": "execute_result"
    }
   ],
   "source": [
    "listi.pop(3)\n",
    "listi"
   ]
  },
  {
   "cell_type": "code",
   "execution_count": null,
   "metadata": {},
   "outputs": [],
   "source": []
  },
  {
   "cell_type": "markdown",
   "metadata": {
    "collapsed": true
   },
   "source": [
    "## 7 Recursion"
   ]
  },
  {
   "cell_type": "code",
   "execution_count": 4,
   "metadata": {
    "collapsed": true
   },
   "outputs": [],
   "source": [
    "def factorial(n):\n",
    "    if n == 1:\n",
    "        return 1\n",
    "    else:\n",
    "        return n * factorial(n-1)"
   ]
  },
  {
   "cell_type": "code",
   "execution_count": 5,
   "metadata": {},
   "outputs": [
    {
     "data": {
      "text/plain": [
       "24"
      ]
     },
     "execution_count": 5,
     "metadata": {},
     "output_type": "execute_result"
    }
   ],
   "source": [
    "factorial(4)"
   ]
  },
  {
   "cell_type": "markdown",
   "metadata": {
    "collapsed": true
   },
   "source": [
    "# 8class"
   ]
  },
  {
   "cell_type": "code",
   "execution_count": 29,
   "metadata": {},
   "outputs": [
    {
     "name": "stdout",
     "output_type": "stream",
     "text": [
      "37\n",
      "48\n",
      "my name is brad traversy and i am 48\n",
      "my name is brad traversy and i am 49\n"
     ]
    }
   ],
   "source": [
    "# create class\n",
    "class User:\n",
    "    # variable constructor\n",
    "    def __init__(self, name, email, age):\n",
    "        self.name=name\n",
    "        self.email=email\n",
    "        self.age=age\n",
    "    \n",
    "    #method constructor\n",
    "    def greeting(self):\n",
    "        return f'my name is {self.name} and i am {self.age}'\n",
    "    \n",
    "    def has_birthday(self):\n",
    "        self.age+=1\n",
    "\n",
    "# init a user object\n",
    "brad = User('brad traversy','brad@gmail.com', 37)\n",
    "print (brad.age)\n",
    "\n",
    "#edit property\n",
    "brad.age= 48\n",
    "print (brad.age)\n",
    "\n",
    "#call method\n",
    "print (brad.greeting())\n",
    "\n",
    "#call method\n",
    "brad.has_birthday()\n",
    "\n",
    "#call method\n",
    "print (brad.greeting())"
   ]
  },
  {
   "cell_type": "code",
   "execution_count": 37,
   "metadata": {},
   "outputs": [
    {
     "name": "stdout",
     "output_type": "stream",
     "text": [
      "500\n",
      "my name is john and i am 40 and I owe balance of 500\n"
     ]
    }
   ],
   "source": [
    "##one class use the other class inherience\n",
    "class Customer(User):\n",
    "    def __init__(self, name, email,age):\n",
    "        self.name=name\n",
    "        self.email=email\n",
    "        self.age=age\n",
    "        self.balance=0\n",
    "    \n",
    "    def set_balance(self, balance):\n",
    "        self.balance=balance\n",
    "        \n",
    "   \n",
    "    def greeting(self):\n",
    "        return f'my name is {self.name} and i am {self.age} and I owe balance of {self.balance}'\n",
    "        \n",
    "# init customer\n",
    "\n",
    "john = Customer('john', 'john@gmail.com',40)\n",
    "john.set_balance(500)\n",
    "\n",
    "print (john.balance)\n",
    "print (john.greeting())"
   ]
  },
  {
   "cell_type": "markdown",
   "metadata": {},
   "source": [
    "# json"
   ]
  },
  {
   "cell_type": "code",
   "execution_count": 38,
   "metadata": {},
   "outputs": [],
   "source": [
    "import json\n",
    "\n",
    "#sample json, usually is fetched from api\n",
    "\n",
    "userJSON=' {\"first_name\":\"john\", \"last_name\":\"doe\",\"age\":30}'"
   ]
  },
  {
   "cell_type": "code",
   "execution_count": 41,
   "metadata": {},
   "outputs": [
    {
     "name": "stdout",
     "output_type": "stream",
     "text": [
      "{'first_name': 'john', 'last_name': 'doe', 'age': 30}\n",
      "30\n"
     ]
    }
   ],
   "source": [
    "#parse to dict\n",
    "user= json.loads(userJSON)#read as dict\n",
    "print (user)\n",
    "print (user['age'])"
   ]
  },
  {
   "cell_type": "code",
   "execution_count": 43,
   "metadata": {},
   "outputs": [],
   "source": [
    "#create json from dict\n",
    "car={'make':'ford','model':'mustang','year':1970}\n",
    "carJSON=json.dumps(car)"
   ]
  },
  {
   "cell_type": "code",
   "execution_count": 44,
   "metadata": {},
   "outputs": [
    {
     "data": {
      "text/plain": [
       "'{\"make\": \"ford\", \"model\": \"mustang\", \"year\": 1970}'"
      ]
     },
     "execution_count": 44,
     "metadata": {},
     "output_type": "execute_result"
    }
   ],
   "source": [
    "carJSON"
   ]
  },
  {
   "cell_type": "code",
   "execution_count": null,
   "metadata": {},
   "outputs": [],
   "source": []
  },
  {
   "cell_type": "code",
   "execution_count": null,
   "metadata": {},
   "outputs": [],
   "source": []
  }
 ],
 "metadata": {
  "kernelspec": {
   "display_name": "Python 3",
   "language": "python",
   "name": "python3"
  },
  "language_info": {
   "codemirror_mode": {
    "name": "ipython",
    "version": 3
   },
   "file_extension": ".py",
   "mimetype": "text/x-python",
   "name": "python",
   "nbconvert_exporter": "python",
   "pygments_lexer": "ipython3",
   "version": "3.6.5"
  }
 },
 "nbformat": 4,
 "nbformat_minor": 1
}
